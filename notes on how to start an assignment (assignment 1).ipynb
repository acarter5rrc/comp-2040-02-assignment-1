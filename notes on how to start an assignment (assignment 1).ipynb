{
 "cells": [
  {
   "cell_type": "markdown",
   "id": "6d22cff9",
   "metadata": {},
   "source": [
    "# comp 2040 assignment 1\n",
    "## understand the problem\n",
    "- read some data from an input file\n",
    "- compile//accumulate/calculate various stats about the data\n",
    "- summarize and output the stats in a prescribed format\n",
    "\n",
    "## setup your project\n",
    "- setup a repository (local and remote)\n",
    "- grab the sample data (input and output file examples)\n",
    "- create a README file in the root of repository\n",
    "- create your initial code file(s)\n",
    "- commit the initial state of your project\n",
    "\n",
    "## understand your data\n",
    "- mix of upper and lowercase text\n",
    "- various punctuation (;,.:!?)\n",
    "- one line per input file\n",
    "- hyphenated words (treat as multiple words)\n",
    "\n",
    "## start code???\n"
   ]
  }
 ],
 "metadata": {
  "language_info": {
   "name": "python"
  }
 },
 "nbformat": 4,
 "nbformat_minor": 5
}
